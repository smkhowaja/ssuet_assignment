{
 "cells": [
  {
   "cell_type": "code",
   "execution_count": 3,
   "metadata": {},
   "outputs": [
    {
     "name": "stdout",
     "output_type": "stream",
     "text": [
      "Nile run through Egypt \n",
      " River:  Nile \n",
      "Location:  Egypt\n",
      "Indus run through Pakistan \n",
      " River:  Indus \n",
      "Location:  Pakistan\n",
      "Ganges run through India \n",
      " River:  Ganges \n",
      "Location:  India\n"
     ]
    }
   ],
   "source": [
    "country_rivers = {\n",
    "    \"Nile\": \"Egypt\",\n",
    "    \"Indus\": \"Pakistan\",\n",
    "    \"Ganges\": \"India\"\n",
    "}\n",
    "\n",
    "for x in country_rivers.keys():\n",
    "    print(x,\"run through\", country_rivers[x],\"\\n River: \",x,\"\\nLocation: \",country_rivers[x])"
   ]
  },
  {
   "cell_type": "code",
   "execution_count": 8,
   "metadata": {},
   "outputs": [
    {
     "name": "stdout",
     "output_type": "stream",
     "text": [
      "dict_items([('first_name', 'Salman'), ('last name', 'Khowaja'), ('age', 32), ('city', 'Hyderabad')]) \n",
      "\n",
      "First Name:  Ali Shah\n",
      "Last Name:  Dosani\n",
      "Age:  30\n",
      "City:  Karachi \n",
      "\n",
      "First Name:  Nabeel\n",
      "Last Name:  Nayani\n",
      "Age:  31\n",
      "City:  Hyderabad \n",
      "\n",
      "First Name:  Noushad\n",
      "Last Name:  Tejani\n",
      "Age:  35\n",
      "City:  Islamabad \n",
      "\n",
      "First Name:  Mansoor\n",
      "Last Name:  Hussaini\n",
      "Age:  34\n",
      "City:  Gilgit \n",
      "\n"
     ]
    }
   ],
   "source": [
    "person = {\n",
    "    \"first_name\": \"Salman\", \n",
    "    \"last name\": \"Khowaja\", \n",
    "    \"age\": 32,\n",
    "    \"city\": \"Hyderabad\"\n",
    "}\n",
    "\n",
    "print(person.items(),\"\\n\")\n",
    "\n",
    "friends = [\n",
    "    {\n",
    "    \"first_name\": \"Ali Shah\", \n",
    "    \"last_name\": \"Dosani\", \n",
    "    \"age\": 30,\n",
    "    \"city\": \"Karachi\"\n",
    "    },\n",
    "    {\n",
    "    \"first_name\": \"Nabeel\", \n",
    "    \"last_name\": \"Nayani\", \n",
    "    \"age\": 31,\n",
    "    \"city\": \"Hyderabad\"\n",
    "    },\n",
    "    {\n",
    "    \"first_name\": \"Noushad\", \n",
    "    \"last_name\": \"Tejani\", \n",
    "    \"age\": 35,\n",
    "    \"city\": \"Islamabad\"\n",
    "    },\n",
    "    {\n",
    "    \"first_name\": \"Mansoor\", \n",
    "    \"last_name\": \"Hussaini\", \n",
    "    \"age\": 34,\n",
    "    \"city\": \"Gilgit\"\n",
    "    },\n",
    "    \n",
    "]\n",
    "\n",
    "for x in range (0, len(friends)):\n",
    "    print('First Name: ',friends[x]['first_name'])\n",
    "    print('Last Name: ',friends[x]['last_name'])\n",
    "    print('Age: ',friends[x]['age'])\n",
    "    print('City: ',friends[x]['city'],'\\n')"
   ]
  },
  {
   "cell_type": "code",
   "execution_count": 10,
   "metadata": {},
   "outputs": [
    {
     "name": "stdout",
     "output_type": "stream",
     "text": [
      "New York\n",
      "Country:  America\n",
      "Population =  8000000\n",
      "Fact:  City is made up of five boroughs. \n",
      "\n",
      "London\n",
      "Country:  England\n",
      "Population =  8700000\n",
      "Fact:  London is an amazing city \n",
      "\n",
      "Karachi\n",
      "Country:  Pakistan\n",
      "Population =  149100\n",
      "Fact:  City of light \n",
      "\n"
     ]
    }
   ],
   "source": [
    "cities = {\n",
    "    'New York': {\n",
    "        'country': 'America',\n",
    "        'population' : 8000000,\n",
    "        'fact': 'City is made up of five boroughs.'\n",
    "    },\n",
    "    'London' : {\n",
    "        'country': 'England',\n",
    "        'population' : 8700000,\n",
    "        'fact': 'London is an amazing city'\n",
    "    },\n",
    "    'Karachi' : {\n",
    "        'country': 'Pakistan',\n",
    "        'population' : 160000,\n",
    "        'fact': 'City of light'\n",
    "    },\n",
    "    \n",
    "}\n",
    "\n",
    "for x in cities.keys():\n",
    "    print(x)\n",
    "    print('Country: ',cities[x]['country'])\n",
    "    print('Population = ',cities[x]['population'])\n",
    "    print('Fact: ',cities[x]['fact'], '\\n')"
   ]
  },
  {
   "cell_type": "code",
   "execution_count": 2,
   "metadata": {},
   "outputs": [
    {
     "name": "stdout",
     "output_type": "stream",
     "text": [
      "{1: 10, 3: 30, 5: 50, 2: 20, 4: 40, 6: 60}\n"
     ]
    }
   ],
   "source": [
    "dic_1={1:10, 2:20}\n",
    "dic_2={3:30, 4:40}\n",
    "dic_3={5:50,6:60}\n",
    "\n",
    "\n",
    "dict_4 = {\n",
    "    \n",
    "}\n",
    "\n",
    "\n",
    "for x,y,z in zip(dic_1.keys(),dic_2.keys(),dic_3.keys()):\n",
    "    dict_4[x] = dic_1[x]\n",
    "    dict_4[y] = dic_2[y]\n",
    "    dict_4[z] = dic_3[z]\n",
    "\n",
    "print(dict_4)"
   ]
  },
  {
   "cell_type": "code",
   "execution_count": 12,
   "metadata": {},
   "outputs": [
    {
     "name": "stdout",
     "output_type": "stream",
     "text": [
      "Dictionaries\n",
      "{'D': 1, 'i': 3, 'c': 1, 't': 1, 'o': 1, 'n': 1, 'a': 1, 'r': 1, 'e': 1, 's': 1}\n"
     ]
    }
   ],
   "source": [
    "word = 'Dictionaries'\n",
    "dict_word = {}\n",
    "\n",
    "for x in word:\n",
    "    if x in dict_word:\n",
    "        dict_word[x] += 1\n",
    "    else:\n",
    "        dict_word[x] = 1\n",
    "print(word)\n",
    "print(dict_word)"
   ]
  },
  {
   "cell_type": "code",
   "execution_count": 4,
   "metadata": {},
   "outputs": [
    {
     "name": "stdout",
     "output_type": "stream",
     "text": [
      "{'x': [11, 12, 13, 14, 15, 16, 17, 18, 19], 'y': [21, 22, 23, 24, 25, 26, 27, 28, 29], 'z': [31, 32, 33, 34, 35, 36, 37, 38, 39]}\n",
      "15\n",
      "25\n",
      "35\n",
      "x has value [11, 12, 13, 14, 15, 16, 17, 18, 19]\n",
      "y has value [21, 22, 23, 24, 25, 26, 27, 28, 29]\n",
      "z has value [31, 32, 33, 34, 35, 36, 37, 38, 39]\n"
     ]
    }
   ],
   "source": [
    "dict_array = {\n",
    "    'x': [11, 12, 13, 14, 15, 16, 17, 18, 19],\n",
    "    'y': [21, 22, 23, 24, 25, 26, 27, 28, 29],\n",
    "    'z': [31, 32, 33, 34, 35, 36, 37, 38, 39]\n",
    "    }\n",
    "\n",
    "print(dict_array)\n",
    "print(dict_array['x'][4])\n",
    "print(dict_array['y'][4])\n",
    "print(dict_array['z'][4])\n",
    "\n",
    "for a in dict_array.keys():\n",
    "    print(a,'has value', dict_array[a])"
   ]
  },
  {
   "cell_type": "code",
   "execution_count": 10,
   "metadata": {},
   "outputs": [
    {
     "name": "stdout",
     "output_type": "stream",
     "text": [
      "mango : 15\n",
      "watermelon : 12\n",
      "banana : 32\n",
      "apple : 50\n",
      "Total:  109\n"
     ]
    }
   ],
   "source": [
    "prices = {\n",
    "    \"mango\": 5,\n",
    "    \"watermelon\": 6,\n",
    "    \"banana\": 8, \n",
    "    \"apple\": 10, \n",
    "    \n",
    "}\n",
    "\n",
    "stock = {\n",
    "    \"mango\": 3,\n",
    "    \"watermelon\": 2,\n",
    "    \"banana\": 4, \n",
    "    \"apple\": 5,\n",
    "}\n",
    "\n",
    "total = 0\n",
    "loop_control = 0\n",
    "sum_list = []\n",
    "\n",
    "for y in prices:\n",
    "    print(y,\":\",prices[y]*stock[y])\n",
    "    sum_list.append(prices[y]*stock[y]) \n",
    "\n",
    "total = sum(sum_list)\n",
    "print(\"Total: \",total)"
   ]
  },
  {
   "cell_type": "code",
   "execution_count": 8,
   "metadata": {},
   "outputs": [
    {
     "name": "stdout",
     "output_type": "stream",
     "text": [
      "{'M': 1, 'I': 4, 'S': 4, 'P': 2}\n"
     ]
    }
   ],
   "source": [
    "str_name = \"MISSISSIPPI\"\n",
    "freq = {} \n",
    "  \n",
    "for i in str_name: \n",
    "    if i in freq: \n",
    "        freq[i] += 1\n",
    "    else: \n",
    "        freq[i] = 1\n",
    "   \n",
    "print (freq) "
   ]
  },
  {
   "cell_type": "code",
   "execution_count": 6,
   "metadata": {},
   "outputs": [
    {
     "name": "stdout",
     "output_type": "stream",
     "text": [
      "{'a': 1, 'b': -2, 'c': -3, 'd': 7, 'e': 0}\n",
      "{'a': 1, 'd': 7, 'e': 0}\n"
     ]
    }
   ],
   "source": [
    "dict_old = {'a':1, 'b':-2, 'c':-3, 'd':7, 'e':0}\n",
    "dict_new = {}\n",
    "print(dict_old)\n",
    "\n",
    "for x in dict_old.keys():\n",
    "    if dict_old[x] >= 0:\n",
    "        dict_new[x]= dict_old[x]\n",
    "\n",
    "print(dict_new)"
   ]
  },
  {
   "cell_type": "code",
   "execution_count": 7,
   "metadata": {},
   "outputs": [
    {
     "name": "stdout",
     "output_type": "stream",
     "text": [
      "Name     Age     Course\n",
      "Samuel   21   Data Structures\n",
      "Richie   20   Machine Learning\n",
      "Lauren   21   OOPS with java\n"
     ]
    }
   ],
   "source": [
    "dict_array = {\n",
    "    1: ['Samuel', 21, 'Data Structures'],\n",
    "    2: ['Richie', 20, 'Machine Learning'],\n",
    "    3: ['Lauren', 21, 'OOPS with java']\n",
    "    }\n",
    "print(\"Name     Age     Course\")\n",
    "for x in dict_array.keys():\n",
    "    print(dict_array[x][0],\" \", dict_array[x][1], \" \", dict_array[x][2])"
   ]
  },
  {
   "cell_type": "code",
   "execution_count": null,
   "metadata": {},
   "outputs": [],
   "source": []
  }
 ],
 "metadata": {
  "kernelspec": {
   "display_name": "Python 3",
   "language": "python",
   "name": "python3"
  },
  "language_info": {
   "codemirror_mode": {
    "name": "ipython",
    "version": 3
   },
   "file_extension": ".py",
   "mimetype": "text/x-python",
   "name": "python",
   "nbconvert_exporter": "python",
   "pygments_lexer": "ipython3",
   "version": "3.7.4"
  }
 },
 "nbformat": 4,
 "nbformat_minor": 2
}
