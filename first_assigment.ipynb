{
 "cells": [
  {
   "cell_type": "code",
   "execution_count": 5,
   "metadata": {},
   "outputs": [
    {
     "name": "stdout",
     "output_type": "stream",
     "text": [
      "Full Name:  Shahid Ali Khowaja\n",
      "Date of Birth:  11/07/1989\n",
      "Age:  30\n",
      "Mobile No:  03547895214\n",
      "Address:  water pump block 14 F.B Area Karachi\n"
     ]
    }
   ],
   "source": [
    "first_name = \"Shahid Ali\"\n",
    "last_name = \"Khowaja\"\n",
    "dob = \"11/07/1989\"\n",
    "age = 30\n",
    "mobile_no = \"03547895214\"\n",
    "address = \"water pump block 14 F.B Area Karachi\"\n",
    "\n",
    "print(\"Full Name: \", first_name , last_name)\n",
    "print(\"Date of Birth: \", dob)\n",
    "print(\"Age: \", 30)\n",
    "print(\"Mobile No: \", mobile_no)\n",
    "print(\"Address: \", address)"
   ]
  },
  {
   "cell_type": "code",
   "execution_count": null,
   "metadata": {},
   "outputs": [],
   "source": []
  }
 ],
 "metadata": {
  "kernelspec": {
   "display_name": "Python 3",
   "language": "python",
   "name": "python3"
  },
  "language_info": {
   "codemirror_mode": {
    "name": "ipython",
    "version": 3
   },
   "file_extension": ".py",
   "mimetype": "text/x-python",
   "name": "python",
   "nbconvert_exporter": "python",
   "pygments_lexer": "ipython3",
   "version": "3.7.4"
  }
 },
 "nbformat": 4,
 "nbformat_minor": 2
}
