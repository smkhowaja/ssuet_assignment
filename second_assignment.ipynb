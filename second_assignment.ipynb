{
 "cells": [
  {
   "cell_type": "code",
   "execution_count": 6,
   "metadata": {},
   "outputs": [
    {
     "name": "stdout",
     "output_type": "stream",
     "text": [
      "Enter numerator7\n",
      "Enter Denominator2\n",
      "Number  7  is not Completely divisible by  2\n"
     ]
    }
   ],
   "source": [
    "numerator = int(input(\"Enter numerator: \"))\n",
    "denominator = int(input(\"Enter Denominator: \"))\n",
    "\n",
    "if numerator % denominator == 0:\n",
    "    print(\"Number \", numerator ,\"is Completely divisible by \", denominator)\n",
    "else:\n",
    "    print(\"Number \", numerator ,\" is not Completely divisible by \", denominator)\n"
   ]
  },
  {
   "cell_type": "code",
   "execution_count": 10,
   "metadata": {},
   "outputs": [
    {
     "name": "stdout",
     "output_type": "stream",
     "text": [
      "Enter Stringshahid\n",
      "How many copies of String you need3\n",
      "3  Copies of  shahid  are  shahidshahidshahid\n"
     ]
    }
   ],
   "source": [
    "string = input(\"Enter String: \")\n",
    "num_of_string = int(input(\"How many copies of String you need\"))\n",
    "print(num_of_string, \" Copies of \", string , \" are \", string*num_of_string)"
   ]
  },
  {
   "cell_type": "code",
   "execution_count": 14,
   "metadata": {},
   "outputs": [
    {
     "name": "stdout",
     "output_type": "stream",
     "text": [
      "Enter a character: A\n",
      "Letter  A  is Vowel \n"
     ]
    }
   ],
   "source": [
    "vowels = ['a','e','i','o','u']\n",
    "char = input(\"Enter a character: \")\n",
    "if char.lower() in vowels:\n",
    "    print(\"Letter \", char ,\" is Vowel\")\n",
    "else :\n",
    "    print(\"Enter a character : \", char , \"is not Vowel\")\n"
   ]
  },
  {
   "cell_type": "code",
   "execution_count": 19,
   "metadata": {},
   "outputs": [
    {
     "name": "stdout",
     "output_type": "stream",
     "text": [
      "1\n",
      "3\n",
      "5\n",
      "7\n",
      "9\n",
      "11\n",
      "13\n",
      "15\n",
      "17\n",
      "19\n"
     ]
    }
   ],
   "source": [
    "for i in range(1,20,2):\n",
    "    print(i)"
   ]
  },
  {
   "cell_type": "code",
   "execution_count": 22,
   "metadata": {},
   "outputs": [
    {
     "name": "stdout",
     "output_type": "stream",
     "text": [
      "The first three items in the list are: ['Tikka', 'Biryani', 'Pizza']\n",
      "Three items from the middle of the list are: ['Fish', 'Coffee', 'Zinger']\n",
      "The last three items in the list are: ['Burger', 'Kabab', 'Shawarma']\n"
     ]
    }
   ],
   "source": [
    "foods = ['Tikka','Biryani','Pizza','Fish','Coffee','Zinger','Burger','Kabab','Shawarma']\n",
    "print(\"The first three items in the list are:\",foods[0:3])\n",
    "print(\"Three items from the middle of the list are:\",foods[3:6])\n",
    "print(\"The last three items in the list are:\",foods[6:10])"
   ]
  },
  {
   "cell_type": "code",
   "execution_count": null,
   "metadata": {},
   "outputs": [],
   "source": []
  }
 ],
 "metadata": {
  "kernelspec": {
   "display_name": "Python 3",
   "language": "python",
   "name": "python3"
  },
  "language_info": {
   "codemirror_mode": {
    "name": "ipython",
    "version": 3
   },
   "file_extension": ".py",
   "mimetype": "text/x-python",
   "name": "python",
   "nbconvert_exporter": "python",
   "pygments_lexer": "ipython3",
   "version": "3.7.4"
  }
 },
 "nbformat": 4,
 "nbformat_minor": 2
}
