{
 "cells": [
  {
   "cell_type": "code",
   "execution_count": 1,
   "metadata": {},
   "outputs": [
    {
     "name": "stdout",
     "output_type": "stream",
     "text": [
      "Enter Number :8\n",
      "Enter Number :5\n",
      "Enter Number :2\n",
      "Enter Number :36\n",
      "Enter Number :9\n",
      "Enter Number :74\n",
      "Enter Number :5\n",
      "Output Sum of elements: 139\n"
     ]
    }
   ],
   "source": [
    "user_list = []\n",
    "total_sum = 0\n",
    "for i in range(0,7):\n",
    "   user_input = int(input(\"Enter Number :\"))\n",
    "   user_list.append(user_input)\n",
    "   total_sum+= user_list[i]\n",
    "print('Output Sum of elements:',total_sum)"
   ]
  },
  {
   "cell_type": "code",
   "execution_count": 2,
   "metadata": {},
   "outputs": [
    {
     "name": "stdout",
     "output_type": "stream",
     "text": [
      "Enter Positive Number :8\n",
      "[1, 4, 9, 16, 25, 36, 49, 64]\n",
      "Output Total Sum: 204\n"
     ]
    }
   ],
   "source": [
    "integer_list = []\n",
    "total_sum = 0\n",
    "n = int(input(\"Enter Positive Number :\"))\n",
    "for i in range(1,n+1):\n",
    "    integer_list.append(i**2)\n",
    "    total_sum += integer_list[i-1]\n",
    "print(integer_list)\n",
    "print('Output Total Sum:', total_sum)"
   ]
  },
  {
   "cell_type": "code",
   "execution_count": 3,
   "metadata": {},
   "outputs": [
    {
     "name": "stdout",
     "output_type": "stream",
     "text": [
      "[0, 1, 1, 2, 3, 5, 8, 13, 21, 34, 55, 89, 144, 233, 377, 610, 987, 1597, 2584, 4181, 6765, 10946, 17711, 28657, 46368, 75025, 121393, 196418, 317811, 514229, 832040]\n"
     ]
    }
   ],
   "source": [
    "fibonacci_number = []\n",
    "n = 30\n",
    "for i in range(n+1):\n",
    "     if (i-1) <= 0:\n",
    "       fibonacci_number.append(i)\n",
    "     else:\n",
    "       fibonacci_number.append(fibonacci_number[i-2]+fibonacci_number[i-1])\n",
    "print(fibonacci_number)"
   ]
  },
  {
   "cell_type": "code",
   "execution_count": 4,
   "metadata": {},
   "outputs": [
    {
     "name": "stdout",
     "output_type": "stream",
     "text": [
      "Enter Number : 4\n",
      "No\n"
     ]
    }
   ],
   "source": [
    "import math\n",
    "n = int(input('Enter Number : '))\n",
    "check = 'No'\n",
    "if(n > 0):\n",
    " sr = math.sqrt(5*(n**2) + 4)\n",
    " sr1 = math.sqrt(5*(n**2) - 4)\n",
    " if (sr - math.floor(sr)) == 0 or  (sr1 - math.floor(sr1)) == 0:\n",
    "     print('Yes')\n",
    " else:\n",
    "     print('No')"
   ]
  },
  {
   "cell_type": "code",
   "execution_count": 5,
   "metadata": {},
   "outputs": [
    {
     "name": "stdout",
     "output_type": "stream",
     "text": [
      "Enter Number : 9\n",
      "362880\n"
     ]
    }
   ],
   "source": [
    "out_put = 1\n",
    "user_input = int(input(\"Enter Number : \"))\n",
    "if user_input == 0:\n",
    "   out_put = 0\n",
    "else:\n",
    "   for i in range(user_input,1,-2):\n",
    "     out_put *= i * (i-1)\n",
    "print(out_put)"
   ]
  },
  {
   "cell_type": "code",
   "execution_count": 6,
   "metadata": {},
   "outputs": [
    {
     "name": "stdout",
     "output_type": "stream",
     "text": [
      "Enter Number: 5\n",
      "Enter Number : 4\n",
      "Enter Number : 8\n",
      "Enter Number : 9\n",
      "Enter Number : 4\n",
      "Enter Number : 7\n",
      "Largest Number in list: 9\n",
      "Smallest Number in list : 4\n"
     ]
    }
   ],
   "source": [
    "list = []\n",
    "user_input = int(input(\"Enter Number: \"))\n",
    "for i in range(user_input):\n",
    "  items = int(input(\"Enter Number : \"))\n",
    "  list.append(items)\n",
    "print('Largest Number in list:',max(list))\n",
    "print('Smallest Number in list :',min(list))"
   ]
  },
  {
   "cell_type": "code",
   "execution_count": 7,
   "metadata": {},
   "outputs": [
    {
     "name": "stdout",
     "output_type": "stream",
     "text": [
      "Enter position to split : 8\n",
      "[5, 8, 4, 2, 7, 3, 9]\n"
     ]
    }
   ],
   "source": [
    "user_input = int(input('Enter position to split : '))\n",
    "array = [9,5,8,4,2,7,3]\n",
    "for i in range(user_input):\n",
    " responces = array.pop(0)\n",
    " array = array[0:]\n",
    " array.append(responces)\n",
    "print(array)"
   ]
  },
  {
   "cell_type": "code",
   "execution_count": 8,
   "metadata": {},
   "outputs": [
    {
     "name": "stdout",
     "output_type": "stream",
     "text": [
      "Enter no of elements in a list:6\n",
      "Enter no of elements in a list:4\n",
      "Enter no of elements in a list:8\n",
      "Enter no of elements in a list:3\n",
      "Enter no of elements in a list:-9\n",
      "Enter no of elements in a list:7\n",
      "Enter no of elements in a list:-1\n",
      "positive =  4 negative =  2\n"
     ]
    }
   ],
   "source": [
    "user_input = int(input('Enter no of elements in a list:'))\n",
    "list= []\n",
    "for a in range(user_input):\n",
    "  n = int(input('Enter no of elements in a list:'))\n",
    "  list.append(n)\n",
    "    \n",
    "positive_count = 0\n",
    "negative_count= 0\n",
    "for i in range(user_input):\n",
    "  if list[i] > 0:\n",
    "   positive_count += 1\n",
    "  else:\n",
    "   negative_count += 1\n",
    "print('positive = ',positive_count,'negative = ',negative_count)"
   ]
  },
  {
   "cell_type": "code",
   "execution_count": 9,
   "metadata": {},
   "outputs": [
    {
     "name": "stdout",
     "output_type": "stream",
     "text": [
      "Enter String :Mom\n",
      "Yes\n"
     ]
    }
   ],
   "source": [
    "user_input = input('Enter String :')\n",
    "rev = ''\n",
    "for i in user_input:\n",
    "  rev = i + rev\n",
    "if rev.lower() == user_input.lower():\n",
    " print('Yes')\n",
    "else:\n",
    " print('No')"
   ]
  },
  {
   "cell_type": "code",
   "execution_count": 11,
   "metadata": {},
   "outputs": [
    {
     "name": "stdout",
     "output_type": "stream",
     "text": [
      "Enter String :ABeeIghiObhkUul\n",
      "Accepted\n"
     ]
    }
   ],
   "source": [
    "list = ['a','e','i','o','u']\n",
    "user_input = input('Enter String :')\n",
    "j = []\n",
    "k = []\n",
    "for i in user_input:\n",
    " if i.lower() in list:\n",
    "     j.append(i.lower())\n",
    "     for m in j:\n",
    "      if m not in k:\n",
    "       k.append(m)\n",
    "if (len(k) == len(list)):\n",
    " print('Accepted')\n",
    "else:\n",
    " print('Not Accepted')"
   ]
  }
 ],
 "metadata": {
  "kernelspec": {
   "display_name": "Python 3",
   "language": "python",
   "name": "python3"
  },
  "language_info": {
   "codemirror_mode": {
    "name": "ipython",
    "version": 3
   },
   "file_extension": ".py",
   "mimetype": "text/x-python",
   "name": "python",
   "nbconvert_exporter": "python",
   "pygments_lexer": "ipython3",
   "version": "3.7.4"
  }
 },
 "nbformat": 4,
 "nbformat_minor": 2
}
